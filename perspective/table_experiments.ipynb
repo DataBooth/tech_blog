{
 "cells": [
  {
   "cell_type": "code",
   "execution_count": 1,
   "metadata": {},
   "outputs": [
    {
     "name": "stdout",
     "output_type": "stream",
     "text": [
      "\u001b[33m WARN\u001b[0m \u001b[2mperspective_server::local_client\u001b[0m\u001b[2m:\u001b[0m `Session` dropped before init\n"
     ]
    }
   ],
   "source": [
    "from datetime import date, datetime\n",
    "import numpy as np\n",
    "import pandas as pd\n",
    "import perspective"
   ]
  },
  {
   "cell_type": "code",
   "execution_count": 2,
   "metadata": {},
   "outputs": [],
   "source": [
    "data = pd.DataFrame({\n",
    "    \"int\": np.arange(100),\n",
    "    \"float\": [i * 1.5 for i in range(100)],\n",
    "    \"bool\": [True for i in range(100)],\n",
    "    \"date\": [date.today() for i in range(100)],\n",
    "    \"datetime\": [datetime.now() for i in range(100)],\n",
    "    \"string\": [str(i) for i in range(100)]\n",
    "})"
   ]
  },
  {
   "cell_type": "code",
   "execution_count": 3,
   "metadata": {},
   "outputs": [
    {
     "data": {
      "text/html": [
       "<div>\n",
       "<style scoped>\n",
       "    .dataframe tbody tr th:only-of-type {\n",
       "        vertical-align: middle;\n",
       "    }\n",
       "\n",
       "    .dataframe tbody tr th {\n",
       "        vertical-align: top;\n",
       "    }\n",
       "\n",
       "    .dataframe thead th {\n",
       "        text-align: right;\n",
       "    }\n",
       "</style>\n",
       "<table border=\"1\" class=\"dataframe\">\n",
       "  <thead>\n",
       "    <tr style=\"text-align: right;\">\n",
       "      <th></th>\n",
       "      <th>int</th>\n",
       "      <th>float</th>\n",
       "      <th>bool</th>\n",
       "      <th>date</th>\n",
       "      <th>datetime</th>\n",
       "      <th>string</th>\n",
       "    </tr>\n",
       "  </thead>\n",
       "  <tbody>\n",
       "    <tr>\n",
       "      <th>0</th>\n",
       "      <td>0</td>\n",
       "      <td>0.0</td>\n",
       "      <td>True</td>\n",
       "      <td>2024-10-02</td>\n",
       "      <td>2024-10-02 11:44:26.250168</td>\n",
       "      <td>0</td>\n",
       "    </tr>\n",
       "    <tr>\n",
       "      <th>1</th>\n",
       "      <td>1</td>\n",
       "      <td>1.5</td>\n",
       "      <td>True</td>\n",
       "      <td>2024-10-02</td>\n",
       "      <td>2024-10-02 11:44:26.250169</td>\n",
       "      <td>1</td>\n",
       "    </tr>\n",
       "    <tr>\n",
       "      <th>2</th>\n",
       "      <td>2</td>\n",
       "      <td>3.0</td>\n",
       "      <td>True</td>\n",
       "      <td>2024-10-02</td>\n",
       "      <td>2024-10-02 11:44:26.250170</td>\n",
       "      <td>2</td>\n",
       "    </tr>\n",
       "    <tr>\n",
       "      <th>3</th>\n",
       "      <td>3</td>\n",
       "      <td>4.5</td>\n",
       "      <td>True</td>\n",
       "      <td>2024-10-02</td>\n",
       "      <td>2024-10-02 11:44:26.250170</td>\n",
       "      <td>3</td>\n",
       "    </tr>\n",
       "    <tr>\n",
       "      <th>4</th>\n",
       "      <td>4</td>\n",
       "      <td>6.0</td>\n",
       "      <td>True</td>\n",
       "      <td>2024-10-02</td>\n",
       "      <td>2024-10-02 11:44:26.250171</td>\n",
       "      <td>4</td>\n",
       "    </tr>\n",
       "    <tr>\n",
       "      <th>...</th>\n",
       "      <td>...</td>\n",
       "      <td>...</td>\n",
       "      <td>...</td>\n",
       "      <td>...</td>\n",
       "      <td>...</td>\n",
       "      <td>...</td>\n",
       "    </tr>\n",
       "    <tr>\n",
       "      <th>95</th>\n",
       "      <td>95</td>\n",
       "      <td>142.5</td>\n",
       "      <td>True</td>\n",
       "      <td>2024-10-02</td>\n",
       "      <td>2024-10-02 11:44:26.250211</td>\n",
       "      <td>95</td>\n",
       "    </tr>\n",
       "    <tr>\n",
       "      <th>96</th>\n",
       "      <td>96</td>\n",
       "      <td>144.0</td>\n",
       "      <td>True</td>\n",
       "      <td>2024-10-02</td>\n",
       "      <td>2024-10-02 11:44:26.250211</td>\n",
       "      <td>96</td>\n",
       "    </tr>\n",
       "    <tr>\n",
       "      <th>97</th>\n",
       "      <td>97</td>\n",
       "      <td>145.5</td>\n",
       "      <td>True</td>\n",
       "      <td>2024-10-02</td>\n",
       "      <td>2024-10-02 11:44:26.250212</td>\n",
       "      <td>97</td>\n",
       "    </tr>\n",
       "    <tr>\n",
       "      <th>98</th>\n",
       "      <td>98</td>\n",
       "      <td>147.0</td>\n",
       "      <td>True</td>\n",
       "      <td>2024-10-02</td>\n",
       "      <td>2024-10-02 11:44:26.250212</td>\n",
       "      <td>98</td>\n",
       "    </tr>\n",
       "    <tr>\n",
       "      <th>99</th>\n",
       "      <td>99</td>\n",
       "      <td>148.5</td>\n",
       "      <td>True</td>\n",
       "      <td>2024-10-02</td>\n",
       "      <td>2024-10-02 11:44:26.250213</td>\n",
       "      <td>99</td>\n",
       "    </tr>\n",
       "  </tbody>\n",
       "</table>\n",
       "<p>100 rows × 6 columns</p>\n",
       "</div>"
      ],
      "text/plain": [
       "    int  float  bool        date                   datetime string\n",
       "0     0    0.0  True  2024-10-02 2024-10-02 11:44:26.250168      0\n",
       "1     1    1.5  True  2024-10-02 2024-10-02 11:44:26.250169      1\n",
       "2     2    3.0  True  2024-10-02 2024-10-02 11:44:26.250170      2\n",
       "3     3    4.5  True  2024-10-02 2024-10-02 11:44:26.250170      3\n",
       "4     4    6.0  True  2024-10-02 2024-10-02 11:44:26.250171      4\n",
       "..  ...    ...   ...         ...                        ...    ...\n",
       "95   95  142.5  True  2024-10-02 2024-10-02 11:44:26.250211     95\n",
       "96   96  144.0  True  2024-10-02 2024-10-02 11:44:26.250211     96\n",
       "97   97  145.5  True  2024-10-02 2024-10-02 11:44:26.250212     97\n",
       "98   98  147.0  True  2024-10-02 2024-10-02 11:44:26.250212     98\n",
       "99   99  148.5  True  2024-10-02 2024-10-02 11:44:26.250213     99\n",
       "\n",
       "[100 rows x 6 columns]"
      ]
     },
     "execution_count": 3,
     "metadata": {},
     "output_type": "execute_result"
    }
   ],
   "source": [
    "data"
   ]
  },
  {
   "cell_type": "code",
   "execution_count": 4,
   "metadata": {},
   "outputs": [
    {
     "ename": "AttributeError",
     "evalue": "module 'perspective' has no attribute 'Table'",
     "output_type": "error",
     "traceback": [
      "\u001b[0;31m---------------------------------------------------------------------------\u001b[0m",
      "\u001b[0;31mAttributeError\u001b[0m                            Traceback (most recent call last)",
      "Cell \u001b[0;32mIn[4], line 1\u001b[0m\n\u001b[0;32m----> 1\u001b[0m table \u001b[38;5;241m=\u001b[39m \u001b[43mperspective\u001b[49m\u001b[38;5;241;43m.\u001b[39;49m\u001b[43mTable\u001b[49m(data, index\u001b[38;5;241m=\u001b[39m\u001b[38;5;124m\"\u001b[39m\u001b[38;5;124mfloat\u001b[39m\u001b[38;5;124m\"\u001b[39m)\n",
      "\u001b[0;31mAttributeError\u001b[0m: module 'perspective' has no attribute 'Table'"
     ]
    }
   ],
   "source": [
    "\n",
    "table = perspective.Table(data, index=\"float\")"
   ]
  },
  {
   "cell_type": "code",
   "execution_count": null,
   "metadata": {},
   "outputs": [],
   "source": []
  }
 ],
 "metadata": {
  "kernelspec": {
   "display_name": ".venv",
   "language": "python",
   "name": "python3"
  },
  "language_info": {
   "codemirror_mode": {
    "name": "ipython",
    "version": 3
   },
   "file_extension": ".py",
   "mimetype": "text/x-python",
   "name": "python",
   "nbconvert_exporter": "python",
   "pygments_lexer": "ipython3",
   "version": "3.11.10"
  }
 },
 "nbformat": 4,
 "nbformat_minor": 2
}
